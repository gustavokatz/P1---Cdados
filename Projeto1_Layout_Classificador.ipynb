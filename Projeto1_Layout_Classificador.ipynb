{
 "cells": [
  {
   "cell_type": "markdown",
   "metadata": {},
   "source": [
    "# Projeto 1 - Ciência dos Dados"
   ]
  },
  {
   "cell_type": "markdown",
   "metadata": {},
   "source": [
    "Nome: Gustavo Katz\n",
    "\n",
    "Nome: _____"
   ]
  },
  {
   "cell_type": "markdown",
   "metadata": {},
   "source": [
    "Atenção: Serão permitidos grupos de três pessoas, mas com uma rubrica mais exigente. Grupos deste tamanho precisarão fazer um questionário de avaliação de trabalho em equipe"
   ]
  },
  {
   "cell_type": "markdown",
   "metadata": {},
   "source": [
    "___\n",
    "Carregando algumas bibliotecas:"
   ]
  },
  {
   "cell_type": "code",
   "execution_count": 23,
   "metadata": {},
   "outputs": [],
   "source": [
    "%matplotlib inline\n",
    "import pandas as pd\n",
    "import matplotlib.pyplot as plt\n",
    "import numpy as np\n",
    "import os\n",
    "import pandas as to_xlsx"
   ]
  },
  {
   "cell_type": "code",
   "execution_count": 24,
   "metadata": {
    "scrolled": false
   },
   "outputs": [
    {
     "name": "stdout",
     "output_type": "stream",
     "text": [
      "Esperamos trabalhar no diretório\n",
      "C:\\Users\\Gustavo\\Documents\\INSPER2\\Cdados\\Nova pasta\\P1-Cdados\n"
     ]
    }
   ],
   "source": [
    "print('Esperamos trabalhar no diretório')\n",
    "print(os.getcwd())"
   ]
  },
  {
   "cell_type": "markdown",
   "metadata": {},
   "source": [
    "Carregando a base de dados com os tweets classificados como relevantes e não relevantes:"
   ]
  },
  {
   "cell_type": "code",
   "execution_count": 25,
   "metadata": {},
   "outputs": [],
   "source": [
    "filename = 'PS5.xlsx'"
   ]
  },
  {
   "cell_type": "code",
   "execution_count": 26,
   "metadata": {},
   "outputs": [
    {
     "data": {
      "text/html": [
       "<div>\n",
       "<style scoped>\n",
       "    .dataframe tbody tr th:only-of-type {\n",
       "        vertical-align: middle;\n",
       "    }\n",
       "\n",
       "    .dataframe tbody tr th {\n",
       "        vertical-align: top;\n",
       "    }\n",
       "\n",
       "    .dataframe thead th {\n",
       "        text-align: right;\n",
       "    }\n",
       "</style>\n",
       "<table border=\"1\" class=\"dataframe\">\n",
       "  <thead>\n",
       "    <tr style=\"text-align: right;\">\n",
       "      <th></th>\n",
       "      <th>Treinamento</th>\n",
       "      <th>Classificacao</th>\n",
       "    </tr>\n",
       "  </thead>\n",
       "  <tbody>\n",
       "    <tr>\n",
       "      <td>0</td>\n",
       "      <td>fala galera, livezinha no rainbow, vem ai dar ...</td>\n",
       "      <td>1</td>\n",
       "    </tr>\n",
       "    <tr>\n",
       "      <td>1</td>\n",
       "      <td>atualizações\\n\\nxbox series x : 10.3gb\\nxbox o...</td>\n",
       "      <td>2</td>\n",
       "    </tr>\n",
       "    <tr>\n",
       "      <td>2</td>\n",
       "      <td>– season 6 resumo de tamanhos!\\n\\n– xbox: 26 g...</td>\n",
       "      <td>2</td>\n",
       "    </tr>\n",
       "    <tr>\n",
       "      <td>3</td>\n",
       "      <td>@loud_voltan vai jogar ps5 né veia? \\n\\nbom de...</td>\n",
       "      <td>1</td>\n",
       "    </tr>\n",
       "    <tr>\n",
       "      <td>4</td>\n",
       "      <td>@ocervejeiro_ ps5 pro com certeza. https://t.c...</td>\n",
       "      <td>1</td>\n",
       "    </tr>\n",
       "  </tbody>\n",
       "</table>\n",
       "</div>"
      ],
      "text/plain": [
       "                                         Treinamento  Classificacao\n",
       "0  fala galera, livezinha no rainbow, vem ai dar ...              1\n",
       "1  atualizações\\n\\nxbox series x : 10.3gb\\nxbox o...              2\n",
       "2  – season 6 resumo de tamanhos!\\n\\n– xbox: 26 g...              2\n",
       "3  @loud_voltan vai jogar ps5 né veia? \\n\\nbom de...              1\n",
       "4  @ocervejeiro_ ps5 pro com certeza. https://t.c...              1"
      ]
     },
     "execution_count": 26,
     "metadata": {},
     "output_type": "execute_result"
    }
   ],
   "source": [
    "train = pd.read_excel(filename).drop(columns=['0: Não relevante\\n1: Relevante\\n2: Muito relevante'])\n",
    "train.head(5)"
   ]
  },
  {
   "cell_type": "code",
   "execution_count": 27,
   "metadata": {},
   "outputs": [
    {
     "data": {
      "text/html": [
       "<div>\n",
       "<style scoped>\n",
       "    .dataframe tbody tr th:only-of-type {\n",
       "        vertical-align: middle;\n",
       "    }\n",
       "\n",
       "    .dataframe tbody tr th {\n",
       "        vertical-align: top;\n",
       "    }\n",
       "\n",
       "    .dataframe thead th {\n",
       "        text-align: right;\n",
       "    }\n",
       "</style>\n",
       "<table border=\"1\" class=\"dataframe\">\n",
       "  <thead>\n",
       "    <tr style=\"text-align: right;\">\n",
       "      <th></th>\n",
       "      <th>Teste</th>\n",
       "      <th>classificacao2</th>\n",
       "    </tr>\n",
       "  </thead>\n",
       "  <tbody>\n",
       "    <tr>\n",
       "      <td>0</td>\n",
       "      <td>@micalibruno apesar de ser um game de 2018, oc...</td>\n",
       "      <td>2</td>\n",
       "    </tr>\n",
       "    <tr>\n",
       "      <td>1</td>\n",
       "      <td>@ileohhh @fnstatusbr @brasil_fortnite no ps5 a...</td>\n",
       "      <td>0</td>\n",
       "    </tr>\n",
       "    <tr>\n",
       "      <td>2</td>\n",
       "      <td>rt @tiagohardco: ontem eu tava jogando pillars...</td>\n",
       "      <td>1</td>\n",
       "    </tr>\n",
       "    <tr>\n",
       "      <td>3</td>\n",
       "      <td>@heyzubshere pois é kfhskdsdfsdf e o ps5 tá da...</td>\n",
       "      <td>0</td>\n",
       "    </tr>\n",
       "    <tr>\n",
       "      <td>4</td>\n",
       "      <td>@maiconkusterk sua namoradaa quebrar seu ps5, ...</td>\n",
       "      <td>0</td>\n",
       "    </tr>\n",
       "  </tbody>\n",
       "</table>\n",
       "</div>"
      ],
      "text/plain": [
       "                                               Teste  classificacao2\n",
       "0  @micalibruno apesar de ser um game de 2018, oc...               2\n",
       "1  @ileohhh @fnstatusbr @brasil_fortnite no ps5 a...               0\n",
       "2  rt @tiagohardco: ontem eu tava jogando pillars...               1\n",
       "3  @heyzubshere pois é kfhskdsdfsdf e o ps5 tá da...               0\n",
       "4  @maiconkusterk sua namoradaa quebrar seu ps5, ...               0"
      ]
     },
     "execution_count": 27,
     "metadata": {},
     "output_type": "execute_result"
    }
   ],
   "source": [
    "test = pd.read_excel(filename, sheet_name = 'Teste').drop(columns=['0: Não relevante\\n1: Relevante\\n2: Muito relevante', 'Unnamed: 2'])\n",
    "test.head(5)"
   ]
  },
  {
   "cell_type": "markdown",
   "metadata": {},
   "source": [
    "___\n",
    "## Classificador automático de sentimento\n"
   ]
  },
  {
   "cell_type": "markdown",
   "metadata": {},
   "source": [
    "Faça aqui uma descrição do seu produto e o que considerou como relevante ou não relevante na classificação dos tweets.\n",
    "\n",
    "Para poder classificaf os tweets como não relevantes, relevantes ou muito relevantes, foi utilizado um conceito dado por Dale Carnegie que explica apenas criticas não são uteis para se obter melhora. Com isso nossa categoria para não relevante foram as criticas negativas, para relevante foram as criticas positivas e para o muito relevante foram comparações com concorrentes"
   ]
  },
  {
   "cell_type": "markdown",
   "metadata": {},
   "source": [
    "___\n",
    "### Montando um Classificador Naive-Bayes\n",
    "\n",
    "Considerando apenas as mensagens da planilha Treinamento, ensine  seu classificador."
   ]
  },
  {
   "cell_type": "code",
   "execution_count": 28,
   "metadata": {},
   "outputs": [],
   "source": [
    "# Limpeza de caracteres desnecessários:\n",
    "import re \n",
    "\n",
    "#função de limpeza removendo as pontuações\n",
    "def cleanup(text):\n",
    "    caracteres = '[!-.:,:?;/@\")(|,[\\n]' \n",
    "    reconstrucao = re.compile(caracteres)\n",
    "    text_subbed = re.sub(reconstrucao, '', text)\n",
    "    return text_subbed"
   ]
  },
  {
   "cell_type": "code",
   "execution_count": 29,
   "metadata": {},
   "outputs": [],
   "source": [
    "#aqui temos são separadas as palavras de cada tweet de acordo com sua classificação e em sequência limpadas.\n",
    "\n",
    "train0 = train.loc[(train['Classificacao'] == 0),:]\n",
    "train1 = train.loc[(train['Classificacao'] == 1),:]\n",
    "train2 = train.loc[(train['Classificacao'] == 2),:]\n",
    "train0 = cleanup(str(list(train0['Treinamento']))).split()\n",
    "train1 = cleanup(str(list(train1['Treinamento']))).split()\n",
    "train2 = cleanup(str(list(train2['Treinamento']))).split()\n",
    "   "
   ]
  },
  {
   "cell_type": "code",
   "execution_count": 30,
   "metadata": {},
   "outputs": [],
   "source": [
    "#definindo as variaveis:\n",
    "var0 = 1\n",
    "var1 = 1\n",
    "var2 = 1\n",
    "lista0 = []\n",
    "lista1 = []\n",
    "lista2 = []\n"
   ]
  },
  {
   "cell_type": "code",
   "execution_count": 31,
   "metadata": {},
   "outputs": [],
   "source": [
    "#definindo uma lista com todas as palavras sem repetição\n",
    "sem_repeticao = []\n",
    "resultado = []\n",
    "for i in train0 + train1 + train2:\n",
    "    if i not in sem_repeticao:\n",
    "        sem_repeticao.append(i)\n",
    "#print (len(sem_repeticao))\n",
    "\n",
    "p_t0 = len(train0)\n",
    "p_t1 = len(train1)\n",
    "p_t2 = len(train2)\n",
    "p_sem_repeticao = len(sem_repeticao)\n",
    "#print(p_t0, p_t1, p_t2, p_sem_repeticao)\n",
    "\n",
    "\n",
    "#limpeza de dados do teste com contas\n",
    "for tweet in (test['Teste']):\n",
    "    tweet = (tweet.split())\n",
    "     \n",
    "    tweet = ((cleanup(str(tweet))).split())\n",
    "    for palavra in tweet:\n",
    "        var0 = (train0.count(palavra) + 1)*var0 / (p_t0 + len(sem_repeticao))\n",
    "        var1 = (train1.count(palavra) + 1)*var1 / (p_t1 + len(sem_repeticao))\n",
    "        var2 = (train2.count(palavra) + 1)*var2 / (p_t2 + len(sem_repeticao))\n",
    "        \n",
    "    if var0 > var1 and var0 > var2:\n",
    "        resultado.append(0)\n",
    "    elif var1 > var0 and var1 > var2:    \n",
    "        resultado.append(1)\n",
    "    else:\n",
    "        resultado.append(2)\n",
    "        \n",
    "    var0 = 1\n",
    "    var2 = 1\n",
    "    var1 = 1\n",
    "    "
   ]
  },
  {
   "cell_type": "markdown",
   "metadata": {},
   "source": [
    "___\n",
    "### Verificando a performance do Classificador\n",
    "\n",
    "Agora você deve testar o seu classificador com a base de Testes."
   ]
  },
  {
   "cell_type": "code",
   "execution_count": null,
   "metadata": {},
   "outputs": [],
   "source": []
  },
  {
   "cell_type": "code",
   "execution_count": 32,
   "metadata": {},
   "outputs": [
    {
     "data": {
      "text/html": [
       "<div>\n",
       "<style scoped>\n",
       "    .dataframe tbody tr th:only-of-type {\n",
       "        vertical-align: middle;\n",
       "    }\n",
       "\n",
       "    .dataframe tbody tr th {\n",
       "        vertical-align: top;\n",
       "    }\n",
       "\n",
       "    .dataframe thead th {\n",
       "        text-align: right;\n",
       "    }\n",
       "</style>\n",
       "<table border=\"1\" class=\"dataframe\">\n",
       "  <thead>\n",
       "    <tr style=\"text-align: right;\">\n",
       "      <th></th>\n",
       "      <th>Teste</th>\n",
       "      <th>classificacao2</th>\n",
       "      <th>resultado</th>\n",
       "    </tr>\n",
       "  </thead>\n",
       "  <tbody>\n",
       "    <tr>\n",
       "      <td>0</td>\n",
       "      <td>@micalibruno apesar de ser um game de 2018, oc...</td>\n",
       "      <td>2</td>\n",
       "      <td>2</td>\n",
       "    </tr>\n",
       "    <tr>\n",
       "      <td>1</td>\n",
       "      <td>@ileohhh @fnstatusbr @brasil_fortnite no ps5 a...</td>\n",
       "      <td>0</td>\n",
       "      <td>1</td>\n",
       "    </tr>\n",
       "    <tr>\n",
       "      <td>2</td>\n",
       "      <td>rt @tiagohardco: ontem eu tava jogando pillars...</td>\n",
       "      <td>1</td>\n",
       "      <td>0</td>\n",
       "    </tr>\n",
       "    <tr>\n",
       "      <td>3</td>\n",
       "      <td>@heyzubshere pois é kfhskdsdfsdf e o ps5 tá da...</td>\n",
       "      <td>0</td>\n",
       "      <td>2</td>\n",
       "    </tr>\n",
       "    <tr>\n",
       "      <td>4</td>\n",
       "      <td>@maiconkusterk sua namoradaa quebrar seu ps5, ...</td>\n",
       "      <td>0</td>\n",
       "      <td>0</td>\n",
       "    </tr>\n",
       "    <tr>\n",
       "      <td>5</td>\n",
       "      <td>absurdo ps5 tá 6 mil</td>\n",
       "      <td>0</td>\n",
       "      <td>0</td>\n",
       "    </tr>\n",
       "    <tr>\n",
       "      <td>6</td>\n",
       "      <td>@engleooficial tomara que a sony lance um ps5 ...</td>\n",
       "      <td>0</td>\n",
       "      <td>0</td>\n",
       "    </tr>\n",
       "    <tr>\n",
       "      <td>7</td>\n",
       "      <td>inclusive, queria poder fechar o jogo no ps5 d...</td>\n",
       "      <td>1</td>\n",
       "      <td>1</td>\n",
       "    </tr>\n",
       "    <tr>\n",
       "      <td>8</td>\n",
       "      <td>saturnorock @gabriell_medina @arielsis acho qu...</td>\n",
       "      <td>2</td>\n",
       "      <td>2</td>\n",
       "    </tr>\n",
       "    <tr>\n",
       "      <td>9</td>\n",
       "      <td>🛠️ atualização liberada: ps5 (5,1gb)\\n\\n#fortn...</td>\n",
       "      <td>1</td>\n",
       "      <td>1</td>\n",
       "    </tr>\n",
       "  </tbody>\n",
       "</table>\n",
       "</div>"
      ],
      "text/plain": [
       "                                               Teste  classificacao2  \\\n",
       "0  @micalibruno apesar de ser um game de 2018, oc...               2   \n",
       "1  @ileohhh @fnstatusbr @brasil_fortnite no ps5 a...               0   \n",
       "2  rt @tiagohardco: ontem eu tava jogando pillars...               1   \n",
       "3  @heyzubshere pois é kfhskdsdfsdf e o ps5 tá da...               0   \n",
       "4  @maiconkusterk sua namoradaa quebrar seu ps5, ...               0   \n",
       "5                               absurdo ps5 tá 6 mil               0   \n",
       "6  @engleooficial tomara que a sony lance um ps5 ...               0   \n",
       "7  inclusive, queria poder fechar o jogo no ps5 d...               1   \n",
       "8  saturnorock @gabriell_medina @arielsis acho qu...               2   \n",
       "9  🛠️ atualização liberada: ps5 (5,1gb)\\n\\n#fortn...               1   \n",
       "\n",
       "   resultado  \n",
       "0          2  \n",
       "1          1  \n",
       "2          0  \n",
       "3          2  \n",
       "4          0  \n",
       "5          0  \n",
       "6          0  \n",
       "7          1  \n",
       "8          2  \n",
       "9          1  "
      ]
     },
     "execution_count": 32,
     "metadata": {},
     "output_type": "execute_result"
    }
   ],
   "source": [
    "test['resultado'] = resultado\n",
    "test.head(10)"
   ]
  },
  {
   "cell_type": "code",
   "execution_count": 33,
   "metadata": {
    "scrolled": true
   },
   "outputs": [
    {
     "data": {
      "text/html": [
       "<div>\n",
       "<style scoped>\n",
       "    .dataframe tbody tr th:only-of-type {\n",
       "        vertical-align: middle;\n",
       "    }\n",
       "\n",
       "    .dataframe tbody tr th {\n",
       "        vertical-align: top;\n",
       "    }\n",
       "\n",
       "    .dataframe thead th {\n",
       "        text-align: right;\n",
       "    }\n",
       "</style>\n",
       "<table border=\"1\" class=\"dataframe\">\n",
       "  <thead>\n",
       "    <tr style=\"text-align: right;\">\n",
       "      <th>resultado</th>\n",
       "      <th>0</th>\n",
       "      <th>1</th>\n",
       "      <th>2</th>\n",
       "    </tr>\n",
       "    <tr>\n",
       "      <th>classificacao2</th>\n",
       "      <th></th>\n",
       "      <th></th>\n",
       "      <th></th>\n",
       "    </tr>\n",
       "  </thead>\n",
       "  <tbody>\n",
       "    <tr>\n",
       "      <td>0</td>\n",
       "      <td>0.202572</td>\n",
       "      <td>0.057878</td>\n",
       "      <td>0.073955</td>\n",
       "    </tr>\n",
       "    <tr>\n",
       "      <td>1</td>\n",
       "      <td>0.112540</td>\n",
       "      <td>0.247588</td>\n",
       "      <td>0.093248</td>\n",
       "    </tr>\n",
       "    <tr>\n",
       "      <td>2</td>\n",
       "      <td>0.019293</td>\n",
       "      <td>0.009646</td>\n",
       "      <td>0.183280</td>\n",
       "    </tr>\n",
       "  </tbody>\n",
       "</table>\n",
       "</div>"
      ],
      "text/plain": [
       "resultado              0         1         2\n",
       "classificacao2                              \n",
       "0               0.202572  0.057878  0.073955\n",
       "1               0.112540  0.247588  0.093248\n",
       "2               0.019293  0.009646  0.183280"
      ]
     },
     "execution_count": 33,
     "metadata": {},
     "output_type": "execute_result"
    }
   ],
   "source": [
    "pd.crosstab(test['classificacao2'], test['resultado'], normalize=True)"
   ]
  },
  {
   "cell_type": "markdown",
   "metadata": {},
   "source": [
    "___\n",
    "### Concluindo"
   ]
  },
  {
   "cell_type": "markdown",
   "metadata": {},
   "source": [
    "### Motivo para não utilizar novos dados do classificador para gerar novas amostras de treinamento:\n",
    "Caso o classificador seja utilizado para novas amostras de treinamento, ao ocorrer um erro, esse erro poderá gerar ainda mais erros, fazendo com que a longo prazo a base de dados classificada acabe perdendo seu valor no algoritomo da conta."
   ]
  },
  {
   "cell_type": "markdown",
   "metadata": {},
   "source": [
    "### Diferentes cenários para Naïve Bayes:\n",
    "\n",
    "Além de classificar a relevância de tweets, Naïve Bayes pode ser usado para detecção de fraude em transições financeiras, classificando entre \"legal\" ou \"suspeito\";  filtragem de spam; atribuição de temas em textos, como por exemplo: esportivo ou político. Naïve Bayes possui inúmeras aplacações, podendo ser utilizado até na  área de bioinformática, podendo identificar diferentes classes de proteínas"
   ]
  },
  {
   "cell_type": "markdown",
   "metadata": {},
   "source": [
    "### Como aperfeiçoar Naïve Bayes:\n",
    "\n",
    "https://www.vooo.pro/insights/6-passos-faceis-para-aprender-o-algoritmo-naive-bayes-com-o-codigo-em-python/#:~:text=Dicas%20para%20melhorar%20o%20poder%20do%20modelo%20Naive%20Bayes,-Aqui%20v%C3%A3o%20algumas&text=Se%20o%20conjunto%20de%20dados,conjunto%20de%20dados%20de%20teste:\n",
    "\n",
    "https://machinelearningmastery.com/better-naive-bayes/\n",
    "\n",
    "**/ este item foi encontrado em ambos os sites:**\n",
    "\n",
    "A remoção de dados redundantes deve ser realizada ao classificar o que dever ser avaliado, pois pode causar exagero na sua importância\n",
    "\n",
    "https://machinelearningmastery.com/better-naive-bayes/\n",
    "\n",
    "As probabilidades são calculadas de forma independende, um dos motivos pelo qual ele possa ser chamado de “naive”, a partir dessa suposição o algoritmo pode-se acelerar a execução do algoritmo, calculando as probabilidades dos atributos em paralelo, isso pode ser feito utilizando CPUs, diferentes máquinas ou diferentes clusters.\n",
    "\n",
    "https://datascience.stackexchange.com/questions/31413/how-to-improve-naive-bayes\n",
    "\n",
    "Por quanto maior a base de dados, mais provavel é do resultado obtido estar correto, vale resaltar que ao utilizar o próprio classificador, ele fica sujeito a escalonar os erros, portanto não é recomendado."
   ]
  },
  {
   "cell_type": "markdown",
   "metadata": {},
   "source": [
    "___\n",
    "### Qualidade do Classificador a partir de novas separações dos tweets entre Treinamento e Teste\n",
    "\n",
    "Caso for fazer esse item do Projeto"
   ]
  },
  {
   "cell_type": "code",
   "execution_count": null,
   "metadata": {},
   "outputs": [],
   "source": []
  },
  {
   "cell_type": "code",
   "execution_count": null,
   "metadata": {},
   "outputs": [],
   "source": []
  },
  {
   "cell_type": "code",
   "execution_count": null,
   "metadata": {},
   "outputs": [],
   "source": []
  },
  {
   "cell_type": "markdown",
   "metadata": {},
   "source": [
    "___\n",
    "## Aperfeiçoamento:\n",
    "\n",
    "Os trabalhos vão evoluir em conceito dependendo da quantidade de itens avançados:\n",
    "\n",
    "* Limpar: \\n, :, \", ', (, ), etc SEM remover emojis\n",
    "* Corrigir separação de espaços entre palavras e emojis ou entre emojis e emojis\n",
    "* Propor outras limpezas e transformações que não afetem a qualidade da informação ou classificação\n",
    "* Criar categorias intermediárias de relevância baseadas na probabilidade: ex.: muito relevante, relevante, neutro, irrelevante, muito irrelevante (3 categorias: C, mais categorias conta para B)\n",
    "* Explicar por que não posso usar o próprio classificador para gerar mais amostras de treinamento\n",
    "* Propor diferentes cenários para Naïve Bayes fora do contexto do projeto\n",
    "* Sugerir e explicar melhorias reais com indicações concretas de como implementar (indicar como fazer e indicar material de pesquisa)\n"
   ]
  },
  {
   "cell_type": "markdown",
   "metadata": {},
   "source": [
    "___\n",
    "## Referências"
   ]
  },
  {
   "cell_type": "markdown",
   "metadata": {},
   "source": [
    "[Naive Bayes and Text Classification](https://arxiv.org/pdf/1410.5329.pdf)  **Mais completo**\n",
    "\n",
    "[A practical explanation of a Naive Bayes Classifier](https://monkeylearn.com/blog/practical-explanation-naive-bayes-classifier/) **Mais simples**"
   ]
  },
  {
   "cell_type": "code",
   "execution_count": null,
   "metadata": {},
   "outputs": [],
   "source": []
  }
 ],
 "metadata": {
  "kernelspec": {
   "display_name": "Python 3",
   "language": "python",
   "name": "python3"
  },
  "language_info": {
   "codemirror_mode": {
    "name": "ipython",
    "version": 3
   },
   "file_extension": ".py",
   "mimetype": "text/x-python",
   "name": "python",
   "nbconvert_exporter": "python",
   "pygments_lexer": "ipython3",
   "version": "3.7.4"
  }
 },
 "nbformat": 4,
 "nbformat_minor": 4
}
